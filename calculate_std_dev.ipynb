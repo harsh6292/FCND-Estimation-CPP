{
 "cells": [
  {
   "cell_type": "markdown",
   "metadata": {},
   "source": [
    "# Calculate Standard Deviation"
   ]
  },
  {
   "cell_type": "code",
   "execution_count": 34,
   "metadata": {},
   "outputs": [],
   "source": [
    "import numpy as np\n",
    "import math"
   ]
  },
  {
   "cell_type": "code",
   "execution_count": 35,
   "metadata": {},
   "outputs": [],
   "source": [
    "gps_x_data = np.loadtxt('config/log/Graph1.txt', delimiter=',', dtype='Float64', skiprows=1)\n",
    "acc_x_data = np.loadtxt('config/log/Graph2.txt', delimiter=',', dtype='Float64', skiprows=1)"
   ]
  },
  {
   "cell_type": "code",
   "execution_count": 36,
   "metadata": {},
   "outputs": [
    {
     "name": "stdout",
     "output_type": "stream",
     "text": [
      "82\n",
      "1657\n",
      "[ 0.105     0.929729]\n",
      "[ 0.005     0.143543]\n"
     ]
    }
   ],
   "source": [
    "print(len(gps_x_data))\n",
    "print(len(acc_x_data))\n",
    "print(gps_x_data[0])\n",
    "print(acc_x_data[0])"
   ]
  },
  {
   "cell_type": "code",
   "execution_count": 37,
   "metadata": {},
   "outputs": [
    {
     "name": "stdout",
     "output_type": "stream",
     "text": [
      "0.705265302931\n"
     ]
    }
   ],
   "source": [
    "# Calculate Std Dev of GPS X data\n",
    "gps_x_data_sum = np.sum(gps_x_data[:,1])\n",
    "\n",
    "gps_x_mean = 1.0*gps_x_data_sum/len(gps_x_data)\n",
    "\n",
    "gps_x_sum_squared = np.sum((gps_x_data[:,1] - gps_x_mean)**2)\n",
    "\n",
    "gps_std_dev = np.sqrt(gps_x_sum_squared/len(gps_x_data))\n",
    "\n",
    "print(gps_std_dev)"
   ]
  },
  {
   "cell_type": "code",
   "execution_count": 38,
   "metadata": {},
   "outputs": [
    {
     "name": "stdout",
     "output_type": "stream",
     "text": [
      "0.509928551281\n"
     ]
    }
   ],
   "source": [
    "# Calculate Std Dev of Acc X data\n",
    "acc_x_data_sum = np.sum(acc_x_data[:,1])\n",
    "\n",
    "acc_x_mean = 1.0*acc_x_data_sum/len(acc_x_data)\n",
    "\n",
    "acc_x_sum_squared = np.sum((acc_x_data[:,1] - acc_x_mean)**2)\n",
    "\n",
    "acc_std_dev = np.sqrt(acc_x_sum_squared/len(acc_x_data))\n",
    "\n",
    "print(acc_std_dev)"
   ]
  },
  {
   "cell_type": "code",
   "execution_count": null,
   "metadata": {},
   "outputs": [],
   "source": []
  }
 ],
 "metadata": {
  "anaconda-cloud": {},
  "kernelspec": {
   "display_name": "Python 3",
   "language": "python",
   "name": "python3"
  },
  "language_info": {
   "codemirror_mode": {
    "name": "ipython",
    "version": 3
   },
   "file_extension": ".py",
   "mimetype": "text/x-python",
   "name": "python",
   "nbconvert_exporter": "python",
   "pygments_lexer": "ipython3",
   "version": "3.6.1"
  }
 },
 "nbformat": 4,
 "nbformat_minor": 1
}
